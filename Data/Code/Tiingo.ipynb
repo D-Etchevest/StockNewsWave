{
 "cells": [
  {
   "cell_type": "code",
   "execution_count": 11,
   "metadata": {},
   "outputs": [
    {
     "name": "stdout",
     "output_type": "stream",
     "text": [
      "{'message': 'You successfully sent a request'}\n"
     ]
    }
   ],
   "source": [
    "token = 'Token a3eeb0b4376a163a5a0067f4a777529bc4fea493'\n",
    "\n",
    "import requests\n",
    "\n",
    "headers = {\n",
    "        'Content-Type': 'application/json',\n",
    "        'Authorization': token\n",
    "        }\n",
    "requestResponse = requests.get(\"https://api.tiingo.com/api/test/\",\n",
    "                                    headers=headers)\n",
    "print(requestResponse.json())\n",
    "                   \n",
    "\n"
   ]
  },
  {
   "cell_type": "code",
   "execution_count": null,
   "metadata": {},
   "outputs": [],
   "source": [
    "# Historical Intraday Prices\n",
    "https://api.tiingo.com/iex/<ticker>/prices?startDate=2019-01-02&resampleFreq=5min"
   ]
  }
 ],
 "metadata": {
  "kernelspec": {
   "display_name": "Python 3",
   "language": "python",
   "name": "python3"
  },
  "language_info": {
   "codemirror_mode": {
    "name": "ipython",
    "version": 3
   },
   "file_extension": ".py",
   "mimetype": "text/x-python",
   "name": "python",
   "nbconvert_exporter": "python",
   "pygments_lexer": "ipython3",
   "version": "3.7.3"
  }
 },
 "nbformat": 4,
 "nbformat_minor": 4
}
