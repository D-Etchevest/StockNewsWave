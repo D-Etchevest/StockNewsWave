{
 "cells": [
  {
   "cell_type": "code",
   "execution_count": 1,
   "metadata": {},
   "outputs": [],
   "source": [
    "import pandas as pd\n",
    "import numpy as np\n",
    "import multiprocessing"
   ]
  },
  {
   "cell_type": "code",
   "execution_count": null,
   "metadata": {},
   "outputs": [],
   "source": [
    "# Returns x^2\n",
    "def square(x):\n",
    "    sq = x * x\n",
    "    print(str(x) + \"^2 = \", sq)\n",
    "    return sq\n",
    "\n",
    "# 3 sets of numbers\n",
    "listOfListOfValues = [[3,6],2,1]\n",
    "\n",
    "square(3)\n",
    "square(2)\n",
    "square(1)\n",
    "\n",
    "pool = multiprocessing.Pool(processes=3)  \n",
    "averages = pool.map(square, listOfListOfValues)\n",
    "pool.close()\n",
    "\n",
    "print(averages)\n"
   ]
  },
  {
   "cell_type": "code",
   "execution_count": null,
   "metadata": {},
   "outputs": [],
   "source": [
    "From Sean Mondesire to Everyone:  07:05 PM\n",
    "rowWhenNews = 100\n",
    "df[\"PctDiff\"] = 0\n",
    "for row in range(-1, -10):\n",
    "  df[\"PctDiff\" + str(row)].iloc[row] = df[\"Close\"].iloc[row].diff()/df[\"Close\"].iloc[row]\n",
    "\n",
    "for row in range(1, 10):\n",
    "  df[\"PctDiff\" + str(row)].iloc[row] = df[\"Close\"].iloc[row].diff()/df[\"Close\"].iloc[row]"
   ]
  }
 ],
 "metadata": {
  "kernelspec": {
   "display_name": "Python 3",
   "language": "python",
   "name": "python3"
  },
  "language_info": {
   "codemirror_mode": {
    "name": "ipython",
    "version": 3
   },
   "file_extension": ".py",
   "mimetype": "text/x-python",
   "name": "python",
   "nbconvert_exporter": "python",
   "pygments_lexer": "ipython3",
   "version": "3.7.3"
  }
 },
 "nbformat": 4,
 "nbformat_minor": 4
}
